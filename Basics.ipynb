{
 "cells": [
  {
   "cell_type": "code",
   "execution_count": 1,
   "metadata": {
    "collapsed": false
   },
   "outputs": [
    {
     "name": "stdout",
     "output_type": "stream",
     "text": [
      "['', 'year', 'month', 'intent', 'police', 'sex', 'age', 'race', 'hispanic', 'place', 'education']\n",
      "['1', '2012', '01', 'Suicide', '0', 'M', '34', 'Asian/Pacific Islander', '100', 'Home', '4']\n",
      "['2', '2012', '01', 'Suicide', '0', 'F', '21', 'White', '100', 'Street', '3']\n",
      "['3', '2012', '01', 'Suicide', '0', 'M', '60', 'White', '100', 'Other specified', '4']\n",
      "['4', '2012', '02', 'Suicide', '0', 'M', '64', 'White', '100', 'Home', '4']\n"
     ]
    }
   ],
   "source": [
    "import csv\n",
    "\n",
    "data = list(csv.reader(open(\"guns.csv\")))\n",
    "\n",
    "for items in data[0:5]:\n",
    "    print(items)"
   ]
  },
  {
   "cell_type": "code",
   "execution_count": 2,
   "metadata": {
    "collapsed": false
   },
   "outputs": [
    {
     "name": "stdout",
     "output_type": "stream",
     "text": [
      "['', 'year', 'month', 'intent', 'police', 'sex', 'age', 'race', 'hispanic', 'place', 'education']\n",
      "['1', '2012', '01', 'Suicide', '0', 'M', '34', 'Asian/Pacific Islander', '100', 'Home', '4']\n",
      "['2', '2012', '01', 'Suicide', '0', 'F', '21', 'White', '100', 'Street', '3']\n",
      "['3', '2012', '01', 'Suicide', '0', 'M', '60', 'White', '100', 'Other specified', '4']\n",
      "['4', '2012', '02', 'Suicide', '0', 'M', '64', 'White', '100', 'Home', '4']\n",
      "['5', '2012', '02', 'Suicide', '0', 'M', '31', 'White', '100', 'Other specified', '2']\n"
     ]
    }
   ],
   "source": [
    "headers = data.pop(0)\n",
    "print(headers)\n",
    "for items in data[0:5]:\n",
    "    print(items)"
   ]
  },
  {
   "cell_type": "code",
   "execution_count": 3,
   "metadata": {
    "collapsed": false
   },
   "outputs": [
    {
     "name": "stdout",
     "output_type": "stream",
     "text": [
      "{'2012': 33563, '2014': 33599, '2013': 33636}\n"
     ]
    }
   ],
   "source": [
    "years = []\n",
    "for year in data:\n",
    "    years.append(year[1])\n",
    "    \n",
    "year_counts = {}\n",
    "for items in years:\n",
    "    if items in year_counts:\n",
    "        year_counts[items] += 1\n",
    "    else:\n",
    "        year_counts[items] = 1\n",
    "\n",
    "print(year_counts)"
   ]
  },
  {
   "cell_type": "code",
   "execution_count": 4,
   "metadata": {
    "collapsed": false
   },
   "outputs": [
    {
     "name": "stdout",
     "output_type": "stream",
     "text": [
      "2012-01-01 00:00:00\n",
      "2012-01-01 00:00:00\n",
      "2012-01-01 00:00:00\n",
      "2012-02-01 00:00:00\n",
      "2012-02-01 00:00:00\n"
     ]
    }
   ],
   "source": [
    "import datetime \n",
    "dates = []\n",
    "for items in data:\n",
    "    year = int(items[1])\n",
    "    month = int(items[2])\n",
    "    date = datetime.datetime(year = year, month = month, day = 1)\n",
    "    dates.append(date)\n",
    "    \n",
    "for values in dates[0:5]:\n",
    "    print(values)"
   ]
  },
  {
   "cell_type": "code",
   "execution_count": 5,
   "metadata": {
    "collapsed": false
   },
   "outputs": [
    {
     "name": "stdout",
     "output_type": "stream",
     "text": [
      "{datetime.datetime(2013, 7, 1, 0, 0): 3079, datetime.datetime(2012, 11, 1, 0, 0): 2729, datetime.datetime(2014, 11, 1, 0, 0): 2756, datetime.datetime(2014, 10, 1, 0, 0): 2865, datetime.datetime(2012, 6, 1, 0, 0): 2826, datetime.datetime(2012, 1, 1, 0, 0): 2758, datetime.datetime(2014, 9, 1, 0, 0): 2914, datetime.datetime(2014, 7, 1, 0, 0): 2884, datetime.datetime(2014, 5, 1, 0, 0): 2864, datetime.datetime(2012, 9, 1, 0, 0): 2852, datetime.datetime(2013, 9, 1, 0, 0): 2742, datetime.datetime(2012, 12, 1, 0, 0): 2791, datetime.datetime(2013, 4, 1, 0, 0): 2798, datetime.datetime(2012, 2, 1, 0, 0): 2357, datetime.datetime(2013, 6, 1, 0, 0): 2920, datetime.datetime(2012, 3, 1, 0, 0): 2743, datetime.datetime(2013, 3, 1, 0, 0): 2862, datetime.datetime(2013, 5, 1, 0, 0): 2806, datetime.datetime(2014, 8, 1, 0, 0): 2970, datetime.datetime(2014, 1, 1, 0, 0): 2651, datetime.datetime(2014, 6, 1, 0, 0): 2931, datetime.datetime(2014, 4, 1, 0, 0): 2862, datetime.datetime(2013, 12, 1, 0, 0): 2765, datetime.datetime(2012, 10, 1, 0, 0): 2733, datetime.datetime(2012, 4, 1, 0, 0): 2795, datetime.datetime(2013, 2, 1, 0, 0): 2375, datetime.datetime(2012, 7, 1, 0, 0): 3026, datetime.datetime(2013, 10, 1, 0, 0): 2808, datetime.datetime(2013, 1, 1, 0, 0): 2864, datetime.datetime(2014, 3, 1, 0, 0): 2684, datetime.datetime(2012, 8, 1, 0, 0): 2954, datetime.datetime(2014, 2, 1, 0, 0): 2361, datetime.datetime(2013, 8, 1, 0, 0): 2859, datetime.datetime(2014, 12, 1, 0, 0): 2857, datetime.datetime(2013, 11, 1, 0, 0): 2758, datetime.datetime(2012, 5, 1, 0, 0): 2999}\n"
     ]
    }
   ],
   "source": [
    "date_counts = {}\n",
    "for items in dates:\n",
    "    if items in date_counts:\n",
    "        date_counts[items] += 1\n",
    "    else:\n",
    "        date_counts[items] = 1\n",
    "print(date_counts)"
   ]
  },
  {
   "cell_type": "code",
   "execution_count": 6,
   "metadata": {
    "collapsed": false
   },
   "outputs": [
    {
     "name": "stdout",
     "output_type": "stream",
     "text": [
      "{'M': 86349, 'F': 14449}\n",
      "{'White': 66237, 'Black': 23296, 'Asian/Pacific Islander': 1326, 'Hispanic': 9022, 'Native American/Native Alaskan': 917}\n"
     ]
    }
   ],
   "source": [
    "sex_counts = {}\n",
    "for items in data:\n",
    "    if items[5] in sex_counts:\n",
    "        sex_counts[items[5]] += 1\n",
    "    else:\n",
    "        sex_counts[items[5]] = 1\n",
    "\n",
    "race_counts = {}\n",
    "for items in data:\n",
    "    if items[7] in race_counts:\n",
    "        race_counts[items[7]] += 1\n",
    "    else:\n",
    "        race_counts[items[7]] = 1\n",
    "        \n",
    "print(sex_counts)\n",
    "print(race_counts)\n"
   ]
  },
  {
   "cell_type": "markdown",
   "metadata": {
    "collapsed": true
   },
   "source": [
    "#### Between 2012-2014, it appears that males are more than 6 times more likely\n",
    "#### to cause gun deaths. It shows that people identifying or identified as whit\n",
    "#### are linked to gun deaths more than all other races combined.\n",
    "\n",
    "#### What might need further explanation is a cross-examination of socio-economic\n",
    "#### environments in which these gun deaths occured in along with types of death."
   ]
  },
  {
   "cell_type": "code",
   "execution_count": 7,
   "metadata": {
    "collapsed": false
   },
   "outputs": [
    {
     "name": "stdout",
     "output_type": "stream",
     "text": [
      "[['Id', 'Year', 'Id', 'Sex', 'Id', 'Hispanic Origin', 'Id', 'Id2', 'Geography', 'Total', 'Race Alone - White', 'Race Alone - Hispanic', 'Race Alone - Black or African American', 'Race Alone - American Indian and Alaska Native', 'Race Alone - Asian', 'Race Alone - Native Hawaiian and Other Pacific Islander', 'Two or More Races'], ['cen42010', 'April 1, 2010 Census', 'totsex', 'Both Sexes', 'tothisp', 'Total', '0100000US', '', 'United States', '308745538', '197318956', '44618105', '40250635', '3739506', '15159516', '674625', '6984195']]\n"
     ]
    }
   ],
   "source": [
    "census = list(csv.reader(open(\"census.csv\")))\n",
    "print(census)"
   ]
  },
  {
   "cell_type": "code",
   "execution_count": 8,
   "metadata": {
    "collapsed": false
   },
   "outputs": [
    {
     "name": "stdout",
     "output_type": "stream",
     "text": [
      "['Id', 'Year', 'Id', 'Sex', 'Id', 'Hispanic Origin', 'Id', 'Id2', 'Geography', 'Total', 'Race Alone - White', 'Race Alone - Hispanic', 'Race Alone - Black or African American', 'Race Alone - American Indian and Alaska Native', 'Race Alone - Asian', 'Race Alone - Native Hawaiian and Other Pacific Islander', 'Two or More Races']\n"
     ]
    }
   ],
   "source": [
    "header = census.pop(0)\n",
    "print(header)"
   ]
  },
  {
   "cell_type": "code",
   "execution_count": 9,
   "metadata": {
    "collapsed": false
   },
   "outputs": [
    {
     "name": "stdout",
     "output_type": "stream",
     "text": [
      "{'Asian/Pacific Islander': 8.374309664161762, 'Black': 57.8773477735196, 'White': 33.56849303419181, 'Native American/Native Alaskan': 24.521955573811088, 'Hispanic': 20.220491210910907}\n"
     ]
    }
   ],
   "source": [
    "mapping = {\n",
    "    'Black': 40250635, \n",
    "    'Hispanic': 44618105, \n",
    "    'Native American/Native Alaskan': 3739506, \n",
    "    'White': 197318956, \n",
    "    'Asian/Pacific Islander': 15834141\n",
    "}\n",
    "\n",
    "race_per_hundredk = {}\n",
    "\n",
    "for key in race_counts:\n",
    "    if key in mapping:\n",
    "        race_per_hundredk[key] = (race_counts[key] / mapping[key]) * 100000\n",
    "        \n",
    "print(race_per_hundredk)"
   ]
  },
  {
   "cell_type": "code",
   "execution_count": 15,
   "metadata": {
    "collapsed": false
   },
   "outputs": [
    {
     "name": "stdout",
     "output_type": "stream",
     "text": [
      "{'Asian/Pacific Islander': 3.530346230970155, 'Black': 48.471284987180944, 'White': 4.6356417981453335, 'Hispanic': 12.627161104219914, 'Native American/Native Alaskan': 8.717729026240365}\n"
     ]
    }
   ],
   "source": [
    "intents = []\n",
    "for values in data:\n",
    "    intents.append(values[3])\n",
    "    \n",
    "races = []\n",
    "for values in data:\n",
    "    races.append(values[7])\n",
    "    \n",
    "homicide_race_per_hundredk = {}\n",
    "\n",
    "for i, race in enumerate(races):\n",
    "    if intents[i] == \"Homicide\":\n",
    "        if race in homicide_race_per_hundredk:\n",
    "            homicide_race_per_hundredk[race] += 1\n",
    "        else:\n",
    "            homicide_race_per_hundredk[race] = 1\n",
    "\n",
    "#print(homicide_race_per_hundredk)\n",
    "\n",
    "for key, value in homicide_race_per_hundredk.items():\n",
    "    if key in mapping:\n",
    "        homicide_race_per_hundredk[key] = (homicide_race_per_hundredk[key] / mapping[key]) * 100000\n",
    "        \n",
    "print(homicide_race_per_hundredk)"
   ]
  },
  {
   "cell_type": "markdown",
   "metadata": {},
   "source": [
    "#### The data shoes that individuals identified as black are more likely to be apart of homicide gun violence than all other races combined per 100k individuals of those races. Though it would show that one particular group of race is likely to be apart of homicide at a much more staggering rate,"
   ]
  }
 ],
 "metadata": {
  "kernelspec": {
   "display_name": "Python 3",
   "language": "python",
   "name": "python3"
  },
  "language_info": {
   "codemirror_mode": {
    "name": "ipython",
    "version": 3
   },
   "file_extension": ".py",
   "mimetype": "text/x-python",
   "name": "python",
   "nbconvert_exporter": "python",
   "pygments_lexer": "ipython3",
   "version": "3.4.3"
  }
 },
 "nbformat": 4,
 "nbformat_minor": 0
}
